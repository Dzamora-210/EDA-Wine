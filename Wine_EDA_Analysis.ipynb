{
  "nbformat": 4,
  "nbformat_minor": 0,
  "metadata": {
    "colab": {
      "name": "Wine EDA Analysis.ipynb",
      "provenance": [],
      "authorship_tag": "ABX9TyNKnGA207PdigqGiIQ8RW6i",
      "include_colab_link": true
    },
    "kernelspec": {
      "name": "python3",
      "display_name": "Python 3"
    },
    "language_info": {
      "name": "python"
    }
  },
  "cells": [
    {
      "cell_type": "markdown",
      "metadata": {
        "id": "view-in-github",
        "colab_type": "text"
      },
      "source": [
        "<a href=\"https://colab.research.google.com/github/Dzamora-210/EDA-Wine/blob/main/Wine_EDA_Analysis.ipynb\" target=\"_parent\"><img src=\"https://colab.research.google.com/assets/colab-badge.svg\" alt=\"Open In Colab\"/></a>"
      ]
    },
    {
      "cell_type": "markdown",
      "source": [
        "import libraries"
      ],
      "metadata": {
        "id": "1w4xyRpo5ZZl"
      }
    },
    {
      "cell_type": "code",
      "source": [
        "!pip install geopandas"
      ],
      "metadata": {
        "colab": {
          "base_uri": "https://localhost:8080/"
        },
        "id": "LO4ugnx7EZ9C",
        "outputId": "e04a83d0-da7a-40c3-f99b-d15693b44b7a"
      },
      "execution_count": 2,
      "outputs": [
        {
          "output_type": "stream",
          "name": "stdout",
          "text": [
            "Looking in indexes: https://pypi.org/simple, https://us-python.pkg.dev/colab-wheels/public/simple/\n",
            "Requirement already satisfied: geopandas in /usr/local/lib/python3.7/dist-packages (0.10.2)\n",
            "Requirement already satisfied: fiona>=1.8 in /usr/local/lib/python3.7/dist-packages (from geopandas) (1.8.21)\n",
            "Requirement already satisfied: pandas>=0.25.0 in /usr/local/lib/python3.7/dist-packages (from geopandas) (1.3.5)\n",
            "Requirement already satisfied: shapely>=1.6 in /usr/local/lib/python3.7/dist-packages (from geopandas) (1.8.2)\n",
            "Requirement already satisfied: pyproj>=2.2.0 in /usr/local/lib/python3.7/dist-packages (from geopandas) (3.2.1)\n",
            "Requirement already satisfied: cligj>=0.5 in /usr/local/lib/python3.7/dist-packages (from fiona>=1.8->geopandas) (0.7.2)\n",
            "Requirement already satisfied: setuptools in /usr/local/lib/python3.7/dist-packages (from fiona>=1.8->geopandas) (57.4.0)\n",
            "Requirement already satisfied: munch in /usr/local/lib/python3.7/dist-packages (from fiona>=1.8->geopandas) (2.5.0)\n",
            "Requirement already satisfied: six>=1.7 in /usr/local/lib/python3.7/dist-packages (from fiona>=1.8->geopandas) (1.15.0)\n",
            "Requirement already satisfied: click-plugins>=1.0 in /usr/local/lib/python3.7/dist-packages (from fiona>=1.8->geopandas) (1.1.1)\n",
            "Requirement already satisfied: attrs>=17 in /usr/local/lib/python3.7/dist-packages (from fiona>=1.8->geopandas) (21.4.0)\n",
            "Requirement already satisfied: click>=4.0 in /usr/local/lib/python3.7/dist-packages (from fiona>=1.8->geopandas) (7.1.2)\n",
            "Requirement already satisfied: certifi in /usr/local/lib/python3.7/dist-packages (from fiona>=1.8->geopandas) (2022.6.15)\n",
            "Requirement already satisfied: python-dateutil>=2.7.3 in /usr/local/lib/python3.7/dist-packages (from pandas>=0.25.0->geopandas) (2.8.2)\n",
            "Requirement already satisfied: numpy>=1.17.3 in /usr/local/lib/python3.7/dist-packages (from pandas>=0.25.0->geopandas) (1.21.6)\n",
            "Requirement already satisfied: pytz>=2017.3 in /usr/local/lib/python3.7/dist-packages (from pandas>=0.25.0->geopandas) (2022.1)\n"
          ]
        }
      ]
    },
    {
      "cell_type": "code",
      "execution_count": 15,
      "metadata": {
        "id": "8ctXvYnr5IU6"
      },
      "outputs": [],
      "source": [
        "import pandas as pd \n",
        "import numpy as np\n",
        "import matplotlib.pyplot as plt\n",
        "import plotly\n",
        "import geographiclib\n",
        "import geopandas as gpd\n",
        "import seaborn as sns"
      ]
    },
    {
      "cell_type": "markdown",
      "source": [
        "import CSV"
      ],
      "metadata": {
        "id": "Y6EGOULG5SZP"
      }
    },
    {
      "cell_type": "code",
      "source": [
        "df = pd.read_csv (\"/content/winemag-data-130k-v2 2.csv\")"
      ],
      "metadata": {
        "id": "u4hcnm-k5U-X"
      },
      "execution_count": 4,
      "outputs": []
    },
    {
      "cell_type": "code",
      "source": [
        "print(df.columns)"
      ],
      "metadata": {
        "colab": {
          "base_uri": "https://localhost:8080/"
        },
        "id": "ebhFMnPy5ycQ",
        "outputId": "b757311f-5668-4edf-c9dc-e3fa70a05777"
      },
      "execution_count": 5,
      "outputs": [
        {
          "output_type": "stream",
          "name": "stdout",
          "text": [
            "Index(['Unnamed: 0', 'country', 'description', 'designation', 'points',\n",
            "       'price', 'province', 'region_1', 'region_2', 'taster_name',\n",
            "       'taster_twitter_handle', 'title', 'variety', 'winery'],\n",
            "      dtype='object')\n"
          ]
        }
      ]
    },
    {
      "cell_type": "markdown",
      "source": [
        "EDA price x region, provance, country, taster, price"
      ],
      "metadata": {
        "id": "QY7rjwl09gi2"
      }
    },
    {
      "cell_type": "code",
      "source": [
        "df2 = df[['price', 'region_2', \"country\", 'taster_name', 'points', 'variety']].copy()"
      ],
      "metadata": {
        "id": "EGwRV4gs6TWs"
      },
      "execution_count": 6,
      "outputs": []
    },
    {
      "cell_type": "code",
      "source": [
        "df2"
      ],
      "metadata": {
        "colab": {
          "base_uri": "https://localhost:8080/",
          "height": 424
        },
        "id": "MXowCIei-L5C",
        "outputId": "d4ce0cad-42d0-4220-d5d5-27a15edb06a7"
      },
      "execution_count": 7,
      "outputs": [
        {
          "output_type": "execute_result",
          "data": {
            "text/plain": [
              "        price           region_2   country         taster_name  points  \\\n",
              "0         NaN                NaN     Italy       Kerin O’Keefe      87   \n",
              "1        15.0                NaN  Portugal          Roger Voss      87   \n",
              "2        14.0  Willamette Valley        US        Paul Gregutt      87   \n",
              "3        13.0                NaN        US  Alexander Peartree      87   \n",
              "4        65.0  Willamette Valley        US        Paul Gregutt      87   \n",
              "...       ...                ...       ...                 ...     ...   \n",
              "129966   28.0                NaN   Germany  Anna Lee C. Iijima      90   \n",
              "129967   75.0       Oregon Other        US        Paul Gregutt      90   \n",
              "129968   30.0                NaN    France          Roger Voss      90   \n",
              "129969   32.0                NaN    France          Roger Voss      90   \n",
              "129970   21.0                NaN    France          Roger Voss      90   \n",
              "\n",
              "               variety  \n",
              "0          White Blend  \n",
              "1       Portuguese Red  \n",
              "2           Pinot Gris  \n",
              "3             Riesling  \n",
              "4           Pinot Noir  \n",
              "...                ...  \n",
              "129966        Riesling  \n",
              "129967      Pinot Noir  \n",
              "129968  Gewürztraminer  \n",
              "129969      Pinot Gris  \n",
              "129970  Gewürztraminer  \n",
              "\n",
              "[129971 rows x 6 columns]"
            ],
            "text/html": [
              "\n",
              "  <div id=\"df-e1bd4ae5-74cf-496c-b56f-5f3402662fcd\">\n",
              "    <div class=\"colab-df-container\">\n",
              "      <div>\n",
              "<style scoped>\n",
              "    .dataframe tbody tr th:only-of-type {\n",
              "        vertical-align: middle;\n",
              "    }\n",
              "\n",
              "    .dataframe tbody tr th {\n",
              "        vertical-align: top;\n",
              "    }\n",
              "\n",
              "    .dataframe thead th {\n",
              "        text-align: right;\n",
              "    }\n",
              "</style>\n",
              "<table border=\"1\" class=\"dataframe\">\n",
              "  <thead>\n",
              "    <tr style=\"text-align: right;\">\n",
              "      <th></th>\n",
              "      <th>price</th>\n",
              "      <th>region_2</th>\n",
              "      <th>country</th>\n",
              "      <th>taster_name</th>\n",
              "      <th>points</th>\n",
              "      <th>variety</th>\n",
              "    </tr>\n",
              "  </thead>\n",
              "  <tbody>\n",
              "    <tr>\n",
              "      <th>0</th>\n",
              "      <td>NaN</td>\n",
              "      <td>NaN</td>\n",
              "      <td>Italy</td>\n",
              "      <td>Kerin O’Keefe</td>\n",
              "      <td>87</td>\n",
              "      <td>White Blend</td>\n",
              "    </tr>\n",
              "    <tr>\n",
              "      <th>1</th>\n",
              "      <td>15.0</td>\n",
              "      <td>NaN</td>\n",
              "      <td>Portugal</td>\n",
              "      <td>Roger Voss</td>\n",
              "      <td>87</td>\n",
              "      <td>Portuguese Red</td>\n",
              "    </tr>\n",
              "    <tr>\n",
              "      <th>2</th>\n",
              "      <td>14.0</td>\n",
              "      <td>Willamette Valley</td>\n",
              "      <td>US</td>\n",
              "      <td>Paul Gregutt</td>\n",
              "      <td>87</td>\n",
              "      <td>Pinot Gris</td>\n",
              "    </tr>\n",
              "    <tr>\n",
              "      <th>3</th>\n",
              "      <td>13.0</td>\n",
              "      <td>NaN</td>\n",
              "      <td>US</td>\n",
              "      <td>Alexander Peartree</td>\n",
              "      <td>87</td>\n",
              "      <td>Riesling</td>\n",
              "    </tr>\n",
              "    <tr>\n",
              "      <th>4</th>\n",
              "      <td>65.0</td>\n",
              "      <td>Willamette Valley</td>\n",
              "      <td>US</td>\n",
              "      <td>Paul Gregutt</td>\n",
              "      <td>87</td>\n",
              "      <td>Pinot Noir</td>\n",
              "    </tr>\n",
              "    <tr>\n",
              "      <th>...</th>\n",
              "      <td>...</td>\n",
              "      <td>...</td>\n",
              "      <td>...</td>\n",
              "      <td>...</td>\n",
              "      <td>...</td>\n",
              "      <td>...</td>\n",
              "    </tr>\n",
              "    <tr>\n",
              "      <th>129966</th>\n",
              "      <td>28.0</td>\n",
              "      <td>NaN</td>\n",
              "      <td>Germany</td>\n",
              "      <td>Anna Lee C. Iijima</td>\n",
              "      <td>90</td>\n",
              "      <td>Riesling</td>\n",
              "    </tr>\n",
              "    <tr>\n",
              "      <th>129967</th>\n",
              "      <td>75.0</td>\n",
              "      <td>Oregon Other</td>\n",
              "      <td>US</td>\n",
              "      <td>Paul Gregutt</td>\n",
              "      <td>90</td>\n",
              "      <td>Pinot Noir</td>\n",
              "    </tr>\n",
              "    <tr>\n",
              "      <th>129968</th>\n",
              "      <td>30.0</td>\n",
              "      <td>NaN</td>\n",
              "      <td>France</td>\n",
              "      <td>Roger Voss</td>\n",
              "      <td>90</td>\n",
              "      <td>Gewürztraminer</td>\n",
              "    </tr>\n",
              "    <tr>\n",
              "      <th>129969</th>\n",
              "      <td>32.0</td>\n",
              "      <td>NaN</td>\n",
              "      <td>France</td>\n",
              "      <td>Roger Voss</td>\n",
              "      <td>90</td>\n",
              "      <td>Pinot Gris</td>\n",
              "    </tr>\n",
              "    <tr>\n",
              "      <th>129970</th>\n",
              "      <td>21.0</td>\n",
              "      <td>NaN</td>\n",
              "      <td>France</td>\n",
              "      <td>Roger Voss</td>\n",
              "      <td>90</td>\n",
              "      <td>Gewürztraminer</td>\n",
              "    </tr>\n",
              "  </tbody>\n",
              "</table>\n",
              "<p>129971 rows × 6 columns</p>\n",
              "</div>\n",
              "      <button class=\"colab-df-convert\" onclick=\"convertToInteractive('df-e1bd4ae5-74cf-496c-b56f-5f3402662fcd')\"\n",
              "              title=\"Convert this dataframe to an interactive table.\"\n",
              "              style=\"display:none;\">\n",
              "        \n",
              "  <svg xmlns=\"http://www.w3.org/2000/svg\" height=\"24px\"viewBox=\"0 0 24 24\"\n",
              "       width=\"24px\">\n",
              "    <path d=\"M0 0h24v24H0V0z\" fill=\"none\"/>\n",
              "    <path d=\"M18.56 5.44l.94 2.06.94-2.06 2.06-.94-2.06-.94-.94-2.06-.94 2.06-2.06.94zm-11 1L8.5 8.5l.94-2.06 2.06-.94-2.06-.94L8.5 2.5l-.94 2.06-2.06.94zm10 10l.94 2.06.94-2.06 2.06-.94-2.06-.94-.94-2.06-.94 2.06-2.06.94z\"/><path d=\"M17.41 7.96l-1.37-1.37c-.4-.4-.92-.59-1.43-.59-.52 0-1.04.2-1.43.59L10.3 9.45l-7.72 7.72c-.78.78-.78 2.05 0 2.83L4 21.41c.39.39.9.59 1.41.59.51 0 1.02-.2 1.41-.59l7.78-7.78 2.81-2.81c.8-.78.8-2.07 0-2.86zM5.41 20L4 18.59l7.72-7.72 1.47 1.35L5.41 20z\"/>\n",
              "  </svg>\n",
              "      </button>\n",
              "      \n",
              "  <style>\n",
              "    .colab-df-container {\n",
              "      display:flex;\n",
              "      flex-wrap:wrap;\n",
              "      gap: 12px;\n",
              "    }\n",
              "\n",
              "    .colab-df-convert {\n",
              "      background-color: #E8F0FE;\n",
              "      border: none;\n",
              "      border-radius: 50%;\n",
              "      cursor: pointer;\n",
              "      display: none;\n",
              "      fill: #1967D2;\n",
              "      height: 32px;\n",
              "      padding: 0 0 0 0;\n",
              "      width: 32px;\n",
              "    }\n",
              "\n",
              "    .colab-df-convert:hover {\n",
              "      background-color: #E2EBFA;\n",
              "      box-shadow: 0px 1px 2px rgba(60, 64, 67, 0.3), 0px 1px 3px 1px rgba(60, 64, 67, 0.15);\n",
              "      fill: #174EA6;\n",
              "    }\n",
              "\n",
              "    [theme=dark] .colab-df-convert {\n",
              "      background-color: #3B4455;\n",
              "      fill: #D2E3FC;\n",
              "    }\n",
              "\n",
              "    [theme=dark] .colab-df-convert:hover {\n",
              "      background-color: #434B5C;\n",
              "      box-shadow: 0px 1px 3px 1px rgba(0, 0, 0, 0.15);\n",
              "      filter: drop-shadow(0px 1px 2px rgba(0, 0, 0, 0.3));\n",
              "      fill: #FFFFFF;\n",
              "    }\n",
              "  </style>\n",
              "\n",
              "      <script>\n",
              "        const buttonEl =\n",
              "          document.querySelector('#df-e1bd4ae5-74cf-496c-b56f-5f3402662fcd button.colab-df-convert');\n",
              "        buttonEl.style.display =\n",
              "          google.colab.kernel.accessAllowed ? 'block' : 'none';\n",
              "\n",
              "        async function convertToInteractive(key) {\n",
              "          const element = document.querySelector('#df-e1bd4ae5-74cf-496c-b56f-5f3402662fcd');\n",
              "          const dataTable =\n",
              "            await google.colab.kernel.invokeFunction('convertToInteractive',\n",
              "                                                     [key], {});\n",
              "          if (!dataTable) return;\n",
              "\n",
              "          const docLinkHtml = 'Like what you see? Visit the ' +\n",
              "            '<a target=\"_blank\" href=https://colab.research.google.com/notebooks/data_table.ipynb>data table notebook</a>'\n",
              "            + ' to learn more about interactive tables.';\n",
              "          element.innerHTML = '';\n",
              "          dataTable['output_type'] = 'display_data';\n",
              "          await google.colab.output.renderOutput(dataTable, element);\n",
              "          const docLink = document.createElement('div');\n",
              "          docLink.innerHTML = docLinkHtml;\n",
              "          element.appendChild(docLink);\n",
              "        }\n",
              "      </script>\n",
              "    </div>\n",
              "  </div>\n",
              "  "
            ]
          },
          "metadata": {},
          "execution_count": 7
        }
      ]
    },
    {
      "cell_type": "code",
      "source": [
        "counts = df2['country'].value_counts()\n",
        "print(counts)"
      ],
      "metadata": {
        "colab": {
          "base_uri": "https://localhost:8080/"
        },
        "id": "XiOBGKrskTFm",
        "outputId": "5bf8e704-366d-480f-aa37-79c0e460a174"
      },
      "execution_count": 8,
      "outputs": [
        {
          "output_type": "stream",
          "name": "stdout",
          "text": [
            "US                        54504\n",
            "France                    22093\n",
            "Italy                     19540\n",
            "Spain                      6645\n",
            "Portugal                   5691\n",
            "Chile                      4472\n",
            "Argentina                  3800\n",
            "Austria                    3345\n",
            "Australia                  2329\n",
            "Germany                    2165\n",
            "New Zealand                1419\n",
            "South Africa               1401\n",
            "Israel                      505\n",
            "Greece                      466\n",
            "Canada                      257\n",
            "Hungary                     146\n",
            "Bulgaria                    141\n",
            "Romania                     120\n",
            "Uruguay                     109\n",
            "Turkey                       90\n",
            "Slovenia                     87\n",
            "Georgia                      86\n",
            "England                      74\n",
            "Croatia                      73\n",
            "Mexico                       70\n",
            "Moldova                      59\n",
            "Brazil                       52\n",
            "Lebanon                      35\n",
            "Morocco                      28\n",
            "Peru                         16\n",
            "Ukraine                      14\n",
            "Serbia                       12\n",
            "Czech Republic               12\n",
            "Macedonia                    12\n",
            "Cyprus                       11\n",
            "India                         9\n",
            "Switzerland                   7\n",
            "Luxembourg                    6\n",
            "Bosnia and Herzegovina        2\n",
            "Armenia                       2\n",
            "Slovakia                      1\n",
            "China                         1\n",
            "Egypt                         1\n",
            "Name: country, dtype: int64\n"
          ]
        }
      ]
    },
    {
      "cell_type": "code",
      "source": [
        "df2 = df2[df2.groupby('country')['country'].transform('count').ge(1000)]\n",
        "df2 = df2[df2.groupby('variety')['variety'].transform('count').ge(1000)]\n",
        "\n",
        "df2"
      ],
      "metadata": {
        "colab": {
          "base_uri": "https://localhost:8080/",
          "height": 424
        },
        "id": "mg9fps2oHP83",
        "outputId": "7170e05e-2df6-499b-f208-05512ffa36f9"
      },
      "execution_count": 9,
      "outputs": [
        {
          "output_type": "execute_result",
          "data": {
            "text/plain": [
              "        price           region_2   country         taster_name  points  \\\n",
              "0         NaN                NaN     Italy       Kerin O’Keefe      87   \n",
              "1        15.0                NaN  Portugal          Roger Voss      87   \n",
              "2        14.0  Willamette Valley        US        Paul Gregutt      87   \n",
              "3        13.0                NaN        US  Alexander Peartree      87   \n",
              "4        65.0  Willamette Valley        US        Paul Gregutt      87   \n",
              "...       ...                ...       ...                 ...     ...   \n",
              "129960   48.0                NaN  Portugal          Roger Voss      90   \n",
              "129965   28.0                NaN    France          Roger Voss      90   \n",
              "129966   28.0                NaN   Germany  Anna Lee C. Iijima      90   \n",
              "129967   75.0       Oregon Other        US        Paul Gregutt      90   \n",
              "129969   32.0                NaN    France          Roger Voss      90   \n",
              "\n",
              "               variety  \n",
              "0          White Blend  \n",
              "1       Portuguese Red  \n",
              "2           Pinot Gris  \n",
              "3             Riesling  \n",
              "4           Pinot Noir  \n",
              "...                ...  \n",
              "129960      Pinot Noir  \n",
              "129965      Pinot Gris  \n",
              "129966        Riesling  \n",
              "129967      Pinot Noir  \n",
              "129969      Pinot Gris  \n",
              "\n",
              "[100722 rows x 6 columns]"
            ],
            "text/html": [
              "\n",
              "  <div id=\"df-88484724-a5e0-45da-a6b0-04c9790bbe30\">\n",
              "    <div class=\"colab-df-container\">\n",
              "      <div>\n",
              "<style scoped>\n",
              "    .dataframe tbody tr th:only-of-type {\n",
              "        vertical-align: middle;\n",
              "    }\n",
              "\n",
              "    .dataframe tbody tr th {\n",
              "        vertical-align: top;\n",
              "    }\n",
              "\n",
              "    .dataframe thead th {\n",
              "        text-align: right;\n",
              "    }\n",
              "</style>\n",
              "<table border=\"1\" class=\"dataframe\">\n",
              "  <thead>\n",
              "    <tr style=\"text-align: right;\">\n",
              "      <th></th>\n",
              "      <th>price</th>\n",
              "      <th>region_2</th>\n",
              "      <th>country</th>\n",
              "      <th>taster_name</th>\n",
              "      <th>points</th>\n",
              "      <th>variety</th>\n",
              "    </tr>\n",
              "  </thead>\n",
              "  <tbody>\n",
              "    <tr>\n",
              "      <th>0</th>\n",
              "      <td>NaN</td>\n",
              "      <td>NaN</td>\n",
              "      <td>Italy</td>\n",
              "      <td>Kerin O’Keefe</td>\n",
              "      <td>87</td>\n",
              "      <td>White Blend</td>\n",
              "    </tr>\n",
              "    <tr>\n",
              "      <th>1</th>\n",
              "      <td>15.0</td>\n",
              "      <td>NaN</td>\n",
              "      <td>Portugal</td>\n",
              "      <td>Roger Voss</td>\n",
              "      <td>87</td>\n",
              "      <td>Portuguese Red</td>\n",
              "    </tr>\n",
              "    <tr>\n",
              "      <th>2</th>\n",
              "      <td>14.0</td>\n",
              "      <td>Willamette Valley</td>\n",
              "      <td>US</td>\n",
              "      <td>Paul Gregutt</td>\n",
              "      <td>87</td>\n",
              "      <td>Pinot Gris</td>\n",
              "    </tr>\n",
              "    <tr>\n",
              "      <th>3</th>\n",
              "      <td>13.0</td>\n",
              "      <td>NaN</td>\n",
              "      <td>US</td>\n",
              "      <td>Alexander Peartree</td>\n",
              "      <td>87</td>\n",
              "      <td>Riesling</td>\n",
              "    </tr>\n",
              "    <tr>\n",
              "      <th>4</th>\n",
              "      <td>65.0</td>\n",
              "      <td>Willamette Valley</td>\n",
              "      <td>US</td>\n",
              "      <td>Paul Gregutt</td>\n",
              "      <td>87</td>\n",
              "      <td>Pinot Noir</td>\n",
              "    </tr>\n",
              "    <tr>\n",
              "      <th>...</th>\n",
              "      <td>...</td>\n",
              "      <td>...</td>\n",
              "      <td>...</td>\n",
              "      <td>...</td>\n",
              "      <td>...</td>\n",
              "      <td>...</td>\n",
              "    </tr>\n",
              "    <tr>\n",
              "      <th>129960</th>\n",
              "      <td>48.0</td>\n",
              "      <td>NaN</td>\n",
              "      <td>Portugal</td>\n",
              "      <td>Roger Voss</td>\n",
              "      <td>90</td>\n",
              "      <td>Pinot Noir</td>\n",
              "    </tr>\n",
              "    <tr>\n",
              "      <th>129965</th>\n",
              "      <td>28.0</td>\n",
              "      <td>NaN</td>\n",
              "      <td>France</td>\n",
              "      <td>Roger Voss</td>\n",
              "      <td>90</td>\n",
              "      <td>Pinot Gris</td>\n",
              "    </tr>\n",
              "    <tr>\n",
              "      <th>129966</th>\n",
              "      <td>28.0</td>\n",
              "      <td>NaN</td>\n",
              "      <td>Germany</td>\n",
              "      <td>Anna Lee C. Iijima</td>\n",
              "      <td>90</td>\n",
              "      <td>Riesling</td>\n",
              "    </tr>\n",
              "    <tr>\n",
              "      <th>129967</th>\n",
              "      <td>75.0</td>\n",
              "      <td>Oregon Other</td>\n",
              "      <td>US</td>\n",
              "      <td>Paul Gregutt</td>\n",
              "      <td>90</td>\n",
              "      <td>Pinot Noir</td>\n",
              "    </tr>\n",
              "    <tr>\n",
              "      <th>129969</th>\n",
              "      <td>32.0</td>\n",
              "      <td>NaN</td>\n",
              "      <td>France</td>\n",
              "      <td>Roger Voss</td>\n",
              "      <td>90</td>\n",
              "      <td>Pinot Gris</td>\n",
              "    </tr>\n",
              "  </tbody>\n",
              "</table>\n",
              "<p>100722 rows × 6 columns</p>\n",
              "</div>\n",
              "      <button class=\"colab-df-convert\" onclick=\"convertToInteractive('df-88484724-a5e0-45da-a6b0-04c9790bbe30')\"\n",
              "              title=\"Convert this dataframe to an interactive table.\"\n",
              "              style=\"display:none;\">\n",
              "        \n",
              "  <svg xmlns=\"http://www.w3.org/2000/svg\" height=\"24px\"viewBox=\"0 0 24 24\"\n",
              "       width=\"24px\">\n",
              "    <path d=\"M0 0h24v24H0V0z\" fill=\"none\"/>\n",
              "    <path d=\"M18.56 5.44l.94 2.06.94-2.06 2.06-.94-2.06-.94-.94-2.06-.94 2.06-2.06.94zm-11 1L8.5 8.5l.94-2.06 2.06-.94-2.06-.94L8.5 2.5l-.94 2.06-2.06.94zm10 10l.94 2.06.94-2.06 2.06-.94-2.06-.94-.94-2.06-.94 2.06-2.06.94z\"/><path d=\"M17.41 7.96l-1.37-1.37c-.4-.4-.92-.59-1.43-.59-.52 0-1.04.2-1.43.59L10.3 9.45l-7.72 7.72c-.78.78-.78 2.05 0 2.83L4 21.41c.39.39.9.59 1.41.59.51 0 1.02-.2 1.41-.59l7.78-7.78 2.81-2.81c.8-.78.8-2.07 0-2.86zM5.41 20L4 18.59l7.72-7.72 1.47 1.35L5.41 20z\"/>\n",
              "  </svg>\n",
              "      </button>\n",
              "      \n",
              "  <style>\n",
              "    .colab-df-container {\n",
              "      display:flex;\n",
              "      flex-wrap:wrap;\n",
              "      gap: 12px;\n",
              "    }\n",
              "\n",
              "    .colab-df-convert {\n",
              "      background-color: #E8F0FE;\n",
              "      border: none;\n",
              "      border-radius: 50%;\n",
              "      cursor: pointer;\n",
              "      display: none;\n",
              "      fill: #1967D2;\n",
              "      height: 32px;\n",
              "      padding: 0 0 0 0;\n",
              "      width: 32px;\n",
              "    }\n",
              "\n",
              "    .colab-df-convert:hover {\n",
              "      background-color: #E2EBFA;\n",
              "      box-shadow: 0px 1px 2px rgba(60, 64, 67, 0.3), 0px 1px 3px 1px rgba(60, 64, 67, 0.15);\n",
              "      fill: #174EA6;\n",
              "    }\n",
              "\n",
              "    [theme=dark] .colab-df-convert {\n",
              "      background-color: #3B4455;\n",
              "      fill: #D2E3FC;\n",
              "    }\n",
              "\n",
              "    [theme=dark] .colab-df-convert:hover {\n",
              "      background-color: #434B5C;\n",
              "      box-shadow: 0px 1px 3px 1px rgba(0, 0, 0, 0.15);\n",
              "      filter: drop-shadow(0px 1px 2px rgba(0, 0, 0, 0.3));\n",
              "      fill: #FFFFFF;\n",
              "    }\n",
              "  </style>\n",
              "\n",
              "      <script>\n",
              "        const buttonEl =\n",
              "          document.querySelector('#df-88484724-a5e0-45da-a6b0-04c9790bbe30 button.colab-df-convert');\n",
              "        buttonEl.style.display =\n",
              "          google.colab.kernel.accessAllowed ? 'block' : 'none';\n",
              "\n",
              "        async function convertToInteractive(key) {\n",
              "          const element = document.querySelector('#df-88484724-a5e0-45da-a6b0-04c9790bbe30');\n",
              "          const dataTable =\n",
              "            await google.colab.kernel.invokeFunction('convertToInteractive',\n",
              "                                                     [key], {});\n",
              "          if (!dataTable) return;\n",
              "\n",
              "          const docLinkHtml = 'Like what you see? Visit the ' +\n",
              "            '<a target=\"_blank\" href=https://colab.research.google.com/notebooks/data_table.ipynb>data table notebook</a>'\n",
              "            + ' to learn more about interactive tables.';\n",
              "          element.innerHTML = '';\n",
              "          dataTable['output_type'] = 'display_data';\n",
              "          await google.colab.output.renderOutput(dataTable, element);\n",
              "          const docLink = document.createElement('div');\n",
              "          docLink.innerHTML = docLinkHtml;\n",
              "          element.appendChild(docLink);\n",
              "        }\n",
              "      </script>\n",
              "    </div>\n",
              "  </div>\n",
              "  "
            ]
          },
          "metadata": {},
          "execution_count": 9
        }
      ]
    },
    {
      "cell_type": "code",
      "source": [
        "country_counts = df2['country'].value_counts()\n",
        "print(counts)"
      ],
      "metadata": {
        "colab": {
          "base_uri": "https://localhost:8080/"
        },
        "id": "IDqgu-tvHmF5",
        "outputId": "83d69926-0146-4c01-bc74-236b471a2ee8"
      },
      "execution_count": 10,
      "outputs": [
        {
          "output_type": "stream",
          "name": "stdout",
          "text": [
            "US                        54504\n",
            "France                    22093\n",
            "Italy                     19540\n",
            "Spain                      6645\n",
            "Portugal                   5691\n",
            "Chile                      4472\n",
            "Argentina                  3800\n",
            "Austria                    3345\n",
            "Australia                  2329\n",
            "Germany                    2165\n",
            "New Zealand                1419\n",
            "South Africa               1401\n",
            "Israel                      505\n",
            "Greece                      466\n",
            "Canada                      257\n",
            "Hungary                     146\n",
            "Bulgaria                    141\n",
            "Romania                     120\n",
            "Uruguay                     109\n",
            "Turkey                       90\n",
            "Slovenia                     87\n",
            "Georgia                      86\n",
            "England                      74\n",
            "Croatia                      73\n",
            "Mexico                       70\n",
            "Moldova                      59\n",
            "Brazil                       52\n",
            "Lebanon                      35\n",
            "Morocco                      28\n",
            "Peru                         16\n",
            "Ukraine                      14\n",
            "Serbia                       12\n",
            "Czech Republic               12\n",
            "Macedonia                    12\n",
            "Cyprus                       11\n",
            "India                         9\n",
            "Switzerland                   7\n",
            "Luxembourg                    6\n",
            "Bosnia and Herzegovina        2\n",
            "Armenia                       2\n",
            "Slovakia                      1\n",
            "China                         1\n",
            "Egypt                         1\n",
            "Name: country, dtype: int64\n"
          ]
        }
      ]
    },
    {
      "cell_type": "code",
      "source": [
        "variety_counts = df['variety'].value_counts()\n",
        "print(variety_counts)"
      ],
      "metadata": {
        "colab": {
          "base_uri": "https://localhost:8080/"
        },
        "id": "afVt7hmwsX95",
        "outputId": "eabac7c8-d863-4527-cd42-cd2cecc66494"
      },
      "execution_count": 11,
      "outputs": [
        {
          "output_type": "stream",
          "name": "stdout",
          "text": [
            "Pinot Noir                    13272\n",
            "Chardonnay                    11753\n",
            "Cabernet Sauvignon             9472\n",
            "Red Blend                      8946\n",
            "Bordeaux-style Red Blend       6915\n",
            "                              ...  \n",
            "Cabernet Sauvignon-Barbera        1\n",
            "Sauvignonasse                     1\n",
            "Forcallà                          1\n",
            "Meseguera                         1\n",
            "Bobal-Cabernet Sauvignon          1\n",
            "Name: variety, Length: 707, dtype: int64\n"
          ]
        }
      ]
    },
    {
      "cell_type": "code",
      "source": [
        "df['country'] = (df['country']).astype(str)\n",
        "df['points'] = (df['points']).astype(int)"
      ],
      "metadata": {
        "id": "j7dlSOIVbNn7"
      },
      "execution_count": 12,
      "outputs": []
    },
    {
      "cell_type": "code",
      "source": [
        "av_country = (df2.groupby(\"country\").mean().round(2))\n",
        "\n",
        "av_variety = (df2.groupby(\"variety\").mean().round(2))\n",
        "\n",
        "print(av_country)\n",
        "print(av_variety)"
      ],
      "metadata": {
        "colab": {
          "base_uri": "https://localhost:8080/"
        },
        "id": "GrYzDZbN47MX",
        "outputId": "0fdc334e-4891-4500-c68d-119ab150adc7"
      },
      "execution_count": 13,
      "outputs": [
        {
          "output_type": "stream",
          "name": "stdout",
          "text": [
            "              price  points\n",
            "country                    \n",
            "Argentina     25.27   86.81\n",
            "Australia     29.07   87.97\n",
            "Austria       31.30   90.31\n",
            "Chile         20.66   86.48\n",
            "France        43.14   88.86\n",
            "Germany       43.13   90.01\n",
            "Italy         46.29   88.95\n",
            "New Zealand   26.97   88.31\n",
            "Portugal      21.44   87.99\n",
            "South Africa  25.52   88.22\n",
            "Spain         28.16   87.23\n",
            "US            37.64   88.63\n",
            "                            price  points\n",
            "variety                                  \n",
            "Bordeaux-style Red Blend    47.24   89.10\n",
            "Bordeaux-style White Blend  34.72   88.69\n",
            "Cabernet Franc              34.69   88.15\n",
            "Cabernet Sauvignon          48.33   88.62\n",
            "Champagne Blend             70.98   89.68\n",
            "Chardonnay                  34.67   88.35\n",
            "Gamay                       20.70   88.03\n",
            "Grüner Veltliner            27.80   89.98\n",
            "Malbec                      29.94   87.98\n",
            "Merlot                      29.70   87.21\n",
            "Nebbiolo                    65.72   90.26\n",
            "Pinot Grigio                16.68   86.23\n",
            "Pinot Gris                  23.13   88.51\n",
            "Pinot Noir                  47.67   89.42\n",
            "Portuguese Red              24.82   88.81\n",
            "Portuguese White            15.34   86.93\n",
            "Red Blend                   36.05   88.39\n",
            "Rhône-style Red Blend       34.95   89.14\n",
            "Riesling                    31.97   89.46\n",
            "Rosé                        18.53   86.85\n",
            "Sangiovese                  45.29   88.55\n",
            "Sauvignon Blanc             20.31   87.45\n",
            "Sparkling Blend             29.25   88.01\n",
            "Syrah                       39.18   89.29\n",
            "Tempranillo                 31.18   87.52\n",
            "White Blend                 23.40   87.34\n",
            "Zinfandel                   29.49   87.83\n"
          ]
        }
      ]
    },
    {
      "cell_type": "markdown",
      "source": [
        "Correlations between Variables and Points"
      ],
      "metadata": {
        "id": "ND77DOCDo3oq"
      }
    },
    {
      "cell_type": "markdown",
      "source": [
        "Country"
      ],
      "metadata": {
        "id": "TLHXl-RwpDaq"
      }
    },
    {
      "cell_type": "code",
      "source": [
        "df2['country'].corr(df2['points'])"
      ],
      "metadata": {
        "colab": {
          "base_uri": "https://localhost:8080/"
        },
        "id": "sDKCBb1seRIx",
        "outputId": "e93c9c01-06e9-416d-bf24-62c810e1f70f"
      },
      "execution_count": 46,
      "outputs": [
        {
          "output_type": "execute_result",
          "data": {
            "text/plain": [
              "0.01915060761578322"
            ]
          },
          "metadata": {},
          "execution_count": 46
        }
      ]
    },
    {
      "cell_type": "code",
      "source": [
        "bar = df2.groupby('country', as_index=False)['points'].mean()\n",
        "\n",
        "x = bar['country']\n",
        "y= bar ['points']\n",
        "\n",
        "sns.set(font_scale = 2)\n",
        "sns.barplot(x, y, data=bar, ci=False)\n",
        "\n",
        "plt.xlabel('Country')\n",
        "plt.ylabel('Points')\n",
        "plt.title('Average Points by Country')"
      ],
      "metadata": {
        "colab": {
          "base_uri": "https://localhost:8080/",
          "height": 403
        },
        "id": "5OzTL0x4_6Pd",
        "outputId": "adad3eea-0e32-4a28-9d05-de6db583ad57"
      },
      "execution_count": 16,
      "outputs": [
        {
          "output_type": "stream",
          "name": "stderr",
          "text": [
            "/usr/local/lib/python3.7/dist-packages/seaborn/_decorators.py:43: FutureWarning: Pass the following variables as keyword args: x, y. From version 0.12, the only valid positional argument will be `data`, and passing other arguments without an explicit keyword will result in an error or misinterpretation.\n",
            "  FutureWarning\n"
          ]
        },
        {
          "output_type": "execute_result",
          "data": {
            "text/plain": [
              "Text(0.5, 1.0, 'Average Points by Country')"
            ]
          },
          "metadata": {},
          "execution_count": 16
        },
        {
          "output_type": "display_data",
          "data": {
            "text/plain": [
              "<Figure size 432x288 with 1 Axes>"
            ],
            "image/png": "[encoded data removed]"
          },
          "metadata": {}
        }
      ]
    },
    {
      "cell_type": "markdown",
      "source": [
        "Simolier"
      ],
      "metadata": {
        "id": "zHRWHvRHpF0j"
      }
    },
    {
      "cell_type": "code",
      "source": [
        "df2['taster_name'].corr(df2['points'])"
      ],
      "metadata": {
        "colab": {
          "base_uri": "https://localhost:8080/"
        },
        "id": "KBBsSNLyeLFV",
        "outputId": "7a20c233-03a2-4113-dfcd-80de66e29f08"
      },
      "execution_count": 45,
      "outputs": [
        {
          "output_type": "execute_result",
          "data": {
            "text/plain": [
              "0.07769401156818824"
            ]
          },
          "metadata": {},
          "execution_count": 45
        }
      ]
    },
    {
      "cell_type": "code",
      "source": [
        "bar = df2.groupby('taster_name', as_index=False)['points'].mean()\n",
        "\n",
        "x = bar['taster_name']\n",
        "y= bar ['points']\n",
        "\n",
        "sns.set(font_scale = 2)\n",
        "sns.barplot(x, y, data=bar, ci=False)\n",
        "\n",
        "plt.xlabel('Taster')\n",
        "plt.ylabel('Points')\n",
        "plt.title('Average Points by Taster')"
      ],
      "metadata": {
        "colab": {
          "base_uri": "https://localhost:8080/",
          "height": 403
        },
        "id": "N8e1zHceolNT",
        "outputId": "937b9c6a-47e8-4617-f947-0ff4aad3b203"
      },
      "execution_count": 49,
      "outputs": [
        {
          "output_type": "stream",
          "name": "stderr",
          "text": [
            "/usr/local/lib/python3.7/dist-packages/seaborn/_decorators.py:43: FutureWarning: Pass the following variables as keyword args: x, y. From version 0.12, the only valid positional argument will be `data`, and passing other arguments without an explicit keyword will result in an error or misinterpretation.\n",
            "  FutureWarning\n"
          ]
        },
        {
          "output_type": "execute_result",
          "data": {
            "text/plain": [
              "Text(0.5, 1.0, 'Average Points by Taster')"
            ]
          },
          "metadata": {},
          "execution_count": 49
        },
        {
          "output_type": "display_data",
          "data": {
            "text/plain": [
              "<Figure size 432x288 with 1 Axes>"
            ],
            "image/png": "[encoded data removed]"
          },
          "metadata": {}
        }
      ]
    },
    {
      "cell_type": "markdown",
      "source": [
        "Variety"
      ],
      "metadata": {
        "id": "BJ4r498zpJyL"
      }
    },
    {
      "cell_type": "code",
      "source": [
        "df2['variety'].corr(df2['points'])"
      ],
      "metadata": {
        "colab": {
          "base_uri": "https://localhost:8080/"
        },
        "id": "WPBM_vmqaBEW",
        "outputId": "bb847eef-e38f-4643-a5fd-02cd83a0acd2"
      },
      "execution_count": 44,
      "outputs": [
        {
          "output_type": "execute_result",
          "data": {
            "text/plain": [
              "-0.04742127396521923"
            ]
          },
          "metadata": {},
          "execution_count": 44
        }
      ]
    },
    {
      "cell_type": "code",
      "source": [
        "bar = df2.groupby('variety', as_index=False)['points'].mean()\n",
        "\n",
        "x = bar['variety']\n",
        "y= bar ['points']\n",
        "\n",
        "sns.set(font_scale = 2)\n",
        "sns.barplot(x, y, data=bar, ci=False)\n",
        "\n",
        "plt.xlabel('Wine Variety')\n",
        "plt.ylabel('Points')\n",
        "plt.title('Average Points by Wine Variety')"
      ],
      "metadata": {
        "colab": {
          "base_uri": "https://localhost:8080/",
          "height": 404
        },
        "id": "6p9FF2cNtQrX",
        "outputId": "ab989acd-97dd-4dd6-f4bc-329973f72c85"
      },
      "execution_count": 17,
      "outputs": [
        {
          "output_type": "stream",
          "name": "stderr",
          "text": [
            "/usr/local/lib/python3.7/dist-packages/seaborn/_decorators.py:43: FutureWarning: Pass the following variables as keyword args: x, y. From version 0.12, the only valid positional argument will be `data`, and passing other arguments without an explicit keyword will result in an error or misinterpretation.\n",
            "  FutureWarning\n"
          ]
        },
        {
          "output_type": "execute_result",
          "data": {
            "text/plain": [
              "Text(0.5, 1.0, 'Average Points by Wine Variety')"
            ]
          },
          "metadata": {},
          "execution_count": 17
        },
        {
          "output_type": "display_data",
          "data": {
            "text/plain": [
              "<Figure size 432x288 with 1 Axes>"
            ],
            "image/png": "[encoded data removed]"
          },
          "metadata": {}
        }
      ]
    },
    {
      "cell_type": "markdown",
      "source": [
        "Corelations w Price"
      ],
      "metadata": {
        "id": "0glzzScHpPuA"
      }
    },
    {
      "cell_type": "markdown",
      "source": [
        "Country"
      ],
      "metadata": {
        "id": "4UCM1BnNpcuB"
      }
    },
    {
      "cell_type": "code",
      "source": [
        "df2['country'].corr(df2['price'])"
      ],
      "metadata": {
        "colab": {
          "base_uri": "https://localhost:8080/"
        },
        "id": "u9ykTtzsmQeP",
        "outputId": "451c2a35-cbfa-4031-a2ea-548b8045f20a"
      },
      "execution_count": 47,
      "outputs": [
        {
          "output_type": "execute_result",
          "data": {
            "text/plain": [
              "0.012763763605469117"
            ]
          },
          "metadata": {},
          "execution_count": 47
        }
      ]
    },
    {
      "cell_type": "code",
      "source": [
        "bar = df2.groupby('country', as_index=False)['price'].mean()\n",
        "\n",
        "x = bar['country']\n",
        "y= bar ['price']\n",
        "\n",
        "sns.set(font_scale = 2)\n",
        "sns.barplot(x, y, data=bar, ci=False)\n",
        "\n",
        "plt.xlabel('Country')\n",
        "plt.ylabel('Price')\n",
        "plt.title('Average Price by Country')"
      ],
      "metadata": {
        "colab": {
          "base_uri": "https://localhost:8080/",
          "height": 403
        },
        "id": "vWyYyjOFedMU",
        "outputId": "52b72eab-336b-417a-eab0-b7069606f8b6"
      },
      "execution_count": 18,
      "outputs": [
        {
          "output_type": "stream",
          "name": "stderr",
          "text": [
            "/usr/local/lib/python3.7/dist-packages/seaborn/_decorators.py:43: FutureWarning: Pass the following variables as keyword args: x, y. From version 0.12, the only valid positional argument will be `data`, and passing other arguments without an explicit keyword will result in an error or misinterpretation.\n",
            "  FutureWarning\n"
          ]
        },
        {
          "output_type": "execute_result",
          "data": {
            "text/plain": [
              "Text(0.5, 1.0, 'Average Price by Country')"
            ]
          },
          "metadata": {},
          "execution_count": 18
        },
        {
          "output_type": "display_data",
          "data": {
            "text/plain": [
              "<Figure size 432x288 with 1 Axes>"
            ],
            "image/png": "[encoded data removed]"
          },
          "metadata": {}
        }
      ]
    },
    {
      "cell_type": "markdown",
      "source": [
        "Variety"
      ],
      "metadata": {
        "id": "MuxMkbxDphj0"
      }
    },
    {
      "cell_type": "code",
      "source": [
        "df2['variety'].corr(df2['price'])"
      ],
      "metadata": {
        "colab": {
          "base_uri": "https://localhost:8080/"
        },
        "id": "fwvUmxC7mSGa",
        "outputId": "f333bae0-665b-47d9-c4db-b0af0728e716"
      },
      "execution_count": 48,
      "outputs": [
        {
          "output_type": "execute_result",
          "data": {
            "text/plain": [
              "-0.09903456228877691"
            ]
          },
          "metadata": {},
          "execution_count": 48
        }
      ]
    },
    {
      "cell_type": "code",
      "source": [
        "bar = df2.groupby('variety', as_index=False)['price'].mean()\n",
        "\n",
        "x = bar['variety']\n",
        "y = bar ['price']\n",
        "\n",
        "sns.set(font_scale = 2)\n",
        "sns.barplot(x, y, data=bar, ci=False)\n",
        "\n",
        "plt.xlabel('Wine Variety')\n",
        "plt.ylabel('price')\n",
        "plt.title('Average Price by Wine Varirty')"
      ],
      "metadata": {
        "colab": {
          "base_uri": "https://localhost:8080/",
          "height": 404
        },
        "id": "Jd3cCFI6fLAi",
        "outputId": "bde103f4-bc54-4676-b4eb-e16eb60ca34b"
      },
      "execution_count": 19,
      "outputs": [
        {
          "output_type": "stream",
          "name": "stderr",
          "text": [
            "/usr/local/lib/python3.7/dist-packages/seaborn/_decorators.py:43: FutureWarning: Pass the following variables as keyword args: x, y. From version 0.12, the only valid positional argument will be `data`, and passing other arguments without an explicit keyword will result in an error or misinterpretation.\n",
            "  FutureWarning\n"
          ]
        },
        {
          "output_type": "execute_result",
          "data": {
            "text/plain": [
              "Text(0.5, 1.0, 'Average Price by Wine Varirty')"
            ]
          },
          "metadata": {},
          "execution_count": 19
        },
        {
          "output_type": "display_data",
          "data": {
            "text/plain": [
              "<Figure size 432x288 with 1 Axes>"
            ],
            "image/png": "[encoded data removed]"
          },
          "metadata": {}
        }
      ]
    },
    {
      "cell_type": "code",
      "source": [
        "df2['variety']=df['variety'].astype('category').cat.codes\n",
        "df2['taster_name']=df['taster_name'].astype('category').cat.codes\n",
        "df2['country']=df['country'].astype('category').cat.codes\n"
      ],
      "metadata": {
        "id": "rANCfr-1b5-C"
      },
      "execution_count": 43,
      "outputs": []
    },
    {
      "cell_type": "markdown",
      "source": [
        "Points"
      ],
      "metadata": {
        "id": "fNEyKWdNedlj"
      }
    },
    {
      "cell_type": "code",
      "source": [
        "df2['price'].corr(df2['points'])"
      ],
      "metadata": {
        "colab": {
          "base_uri": "https://localhost:8080/"
        },
        "id": "OzlRajnDmET9",
        "outputId": "15f2d9a5-a458-4738-fb91-4eae730ea10d"
      },
      "execution_count": 41,
      "outputs": [
        {
          "output_type": "execute_result",
          "data": {
            "text/plain": [
              "0.41622551716616696"
            ]
          },
          "metadata": {},
          "execution_count": 41
        }
      ]
    },
    {
      "cell_type": "code",
      "source": [
        "x = df2['price']\n",
        "y = df2 ['points']\n",
        "\n",
        "fig, ax = plt.subplots()\n",
        "p = sns.regplot(x,y, data=df2, scatter_kws={\"color\": \"grey\"}, line_kws={\"color\": \"red\"})\n",
        "ax.set_xlim(0,1000)\n",
        "ax.set_ylim(75,100)\n"
      ],
      "metadata": {
        "colab": {
          "base_uri": "https://localhost:8080/",
          "height": 386
        },
        "id": "UtcHNE-3gL1W",
        "outputId": "e23a9ab9-cd0d-45cf-c139-c48d99ae6630"
      },
      "execution_count": 40,
      "outputs": [
        {
          "output_type": "stream",
          "name": "stderr",
          "text": [
            "/usr/local/lib/python3.7/dist-packages/seaborn/_decorators.py:43: FutureWarning: Pass the following variables as keyword args: x, y. From version 0.12, the only valid positional argument will be `data`, and passing other arguments without an explicit keyword will result in an error or misinterpretation.\n",
            "  FutureWarning\n"
          ]
        },
        {
          "output_type": "execute_result",
          "data": {
            "text/plain": [
              "(75.0, 100.0)"
            ]
          },
          "metadata": {},
          "execution_count": 40
        },
        {
          "output_type": "display_data",
          "data": {
            "text/plain": [
              "<Figure size 432x288 with 1 Axes>"
            ],
            "image/png": "[encoded data removed]"
          },
          "metadata": {}
        }
      ]
    }
  ]
}